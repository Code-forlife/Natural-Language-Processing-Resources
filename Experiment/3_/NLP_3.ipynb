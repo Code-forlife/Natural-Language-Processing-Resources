{
  "nbformat": 4,
  "nbformat_minor": 0,
  "metadata": {
    "colab": {
      "provenance": []
    },
    "kernelspec": {
      "name": "python3",
      "display_name": "Python 3"
    },
    "language_info": {
      "name": "python"
    }
  },
  "cells": [
    {
      "cell_type": "code",
      "source": [
        "import pandas as pd\n",
        "import nltk, re, pprint, string\n",
        "from nltk import word_tokenize, sent_tokenize\n",
        "from prettytable import PrettyTable\n",
        "from nltk import FreqDist, bigrams\n",
        "from collections import Counter"
      ],
      "metadata": {
        "id": "JOSZqwoS9qYS"
      },
      "execution_count": 2,
      "outputs": []
    },
    {
      "cell_type": "code",
      "source": [
        "nltk.download('punkt')"
      ],
      "metadata": {
        "colab": {
          "base_uri": "https://localhost:8080/"
        },
        "id": "UNn2sk2i9uJY",
        "outputId": "1e3feffc-5d34-4654-a007-e5a4c38940c7"
      },
      "execution_count": 3,
      "outputs": [
        {
          "output_type": "stream",
          "name": "stderr",
          "text": [
            "[nltk_data] Downloading package punkt to /root/nltk_data...\n",
            "[nltk_data]   Unzipping tokenizers/punkt.zip.\n"
          ]
        },
        {
          "output_type": "execute_result",
          "data": {
            "text/plain": [
              "True"
            ]
          },
          "metadata": {},
          "execution_count": 3
        }
      ]
    },
    {
      "cell_type": "code",
      "source": [
        "corpus = \"You book a flight. I read a book. You read!\"\n",
        "corpus = \"eos \" + corpus\n",
        "\n",
        "corpus = corpus.lower()\n",
        "corpus = corpus.replace(\",\", \"\").replace(\".\", \" eos\").replace(\"!\", \" eos\").replace(\"?\", \" eos\").replace(\":\", \"\").replace(\";\", \"\").replace(\"-\", \"\").replace(\"'s\", \"\").replace(\"'\", \"\").replace('\"', \"\")\n",
        "print(corpus)\n"
      ],
      "metadata": {
        "colab": {
          "base_uri": "https://localhost:8080/"
        },
        "id": "vf0zktLbHBVV",
        "outputId": "93f375b2-9bfc-4fad-8d86-197fbd820e61"
      },
      "execution_count": 4,
      "outputs": [
        {
          "output_type": "stream",
          "name": "stdout",
          "text": [
            "eos you book a flight eos i read a book eos you read eos\n"
          ]
        }
      ]
    },
    {
      "cell_type": "code",
      "source": [
        "tokens = word_tokenize(corpus)\n",
        "print(tokens)\n",
        "unique_words = [\"\"] + tokens\n",
        "unique_words = pd.unique(unique_words)\n",
        "print(unique_words)"
      ],
      "metadata": {
        "colab": {
          "base_uri": "https://localhost:8080/"
        },
        "id": "Dp0IW__GGDsY",
        "outputId": "f258230c-0943-4547-eadb-8bb957f7a6b5"
      },
      "execution_count": 5,
      "outputs": [
        {
          "output_type": "stream",
          "name": "stdout",
          "text": [
            "['eos', 'you', 'book', 'a', 'flight', 'eos', 'i', 'read', 'a', 'book', 'eos', 'you', 'read', 'eos']\n",
            "['' 'eos' 'you' 'book' 'a' 'flight' 'i' 'read']\n"
          ]
        }
      ]
    },
    {
      "cell_type": "code",
      "source": [
        "bigram_freq = FreqDist(tokens)\n",
        "feq_table = PrettyTable()\n",
        "feq_table.field_names = [\"Word\",\"Frequency\"]\n",
        "for word in unique_words:\n",
        "  if word == 'eos' or word == '':\n",
        "    continue\n",
        "  feq_table.add_row([word,bigram_freq[word]])\n",
        "\n",
        "print(\"Frequency Table\")\n",
        "print(feq_table)"
      ],
      "metadata": {
        "colab": {
          "base_uri": "https://localhost:8080/"
        },
        "id": "VXSaAgxKQHOJ",
        "outputId": "9d71fe9a-f00f-4292-80ba-2d495e6e7de7"
      },
      "execution_count": 6,
      "outputs": [
        {
          "output_type": "stream",
          "name": "stdout",
          "text": [
            "Frequency Table\n",
            "+--------+-----------+\n",
            "|  Word  | Frequency |\n",
            "+--------+-----------+\n",
            "|  you   |     2     |\n",
            "|  book  |     2     |\n",
            "|   a    |     2     |\n",
            "| flight |     1     |\n",
            "|   i    |     1     |\n",
            "|  read  |     2     |\n",
            "+--------+-----------+\n"
          ]
        }
      ]
    },
    {
      "cell_type": "code",
      "source": [
        "def generate_bigrams(corpus):\n",
        "    tokens = word_tokenize(corpus.lower())\n",
        "    bigram_list = list(bigrams(tokens))\n",
        "    return bigram_list\n",
        "\n",
        "def calculate_bigram_frequencies(bigram_list):\n",
        "    bigram_counts = Counter(bigram_list)\n",
        "    return bigram_counts\n",
        "\n",
        "all_bigrams = generate_bigrams(corpus)\n",
        "bigram_frequencies = calculate_bigram_frequencies(all_bigrams)\n",
        "print(all_bigrams)\n",
        "bi_feq_table = PrettyTable()\n",
        "bi_feq_table.field_names = [\"Bigram\",\"Frequency\"]\n",
        "unique_bigrams = set(all_bigrams)\n",
        "for bigram in unique_bigrams:\n",
        "  bi_feq_table.add_row([bigram,bigram_frequencies[bigram]])\n",
        "\n",
        "print(\"Bigram Frequency Table\")\n",
        "print(bi_feq_table)"
      ],
      "metadata": {
        "colab": {
          "base_uri": "https://localhost:8080/"
        },
        "id": "NVjxh3x_RoT3",
        "outputId": "92e468b8-396a-4189-a940-dfdbd441dad6"
      },
      "execution_count": 8,
      "outputs": [
        {
          "output_type": "stream",
          "name": "stdout",
          "text": [
            "[('eos', 'you'), ('you', 'book'), ('book', 'a'), ('a', 'flight'), ('flight', 'eos'), ('eos', 'i'), ('i', 'read'), ('read', 'a'), ('a', 'book'), ('book', 'eos'), ('eos', 'you'), ('you', 'read'), ('read', 'eos')]\n",
            "Bigram Frequency Table\n",
            "+-------------------+-----------+\n",
            "|       Bigram      | Frequency |\n",
            "+-------------------+-----------+\n",
            "|    ('eos', 'i')   |     1     |\n",
            "|  ('you', 'read')  |     1     |\n",
            "|   ('a', 'book')   |     1     |\n",
            "|   ('book', 'a')   |     1     |\n",
            "| ('flight', 'eos') |     1     |\n",
            "|   ('read', 'a')   |     1     |\n",
            "|  ('book', 'eos')  |     1     |\n",
            "|   ('eos', 'you')  |     2     |\n",
            "|  ('a', 'flight')  |     1     |\n",
            "|  ('read', 'eos')  |     1     |\n",
            "|  ('you', 'book')  |     1     |\n",
            "|   ('i', 'read')   |     1     |\n",
            "+-------------------+-----------+\n"
          ]
        }
      ]
    },
    {
      "cell_type": "code",
      "source": [
        "def calculate_bigram_probabilities(bigram_list):\n",
        "    unique_bigrams = set(bigram_list)\n",
        "    total_bigrams = len(bigram_list)\n",
        "    bigram_probabilities = {bigram: (bigram_frequencies[bigram]) / (bigram_freq[bigram[0]])\n",
        "                           for bigram in unique_bigrams}\n",
        "    return bigram_probabilities\n",
        "\n",
        "print(\"Bigram Probability Table:\")\n",
        "bigram_probabilities = calculate_bigram_probabilities(unique_bigrams)\n",
        "for bigram, prob in bigram_probabilities.items():\n",
        "    print(f\"{bigram}: {prob:.4f}\")"
      ],
      "metadata": {
        "colab": {
          "base_uri": "https://localhost:8080/"
        },
        "id": "GQXAu0wXUcfv",
        "outputId": "3dfbf7df-fd4f-4975-bb3e-7221db08864a"
      },
      "execution_count": 14,
      "outputs": [
        {
          "output_type": "stream",
          "name": "stdout",
          "text": [
            "Bigram Probability Table:\n",
            "('eos', 'i'): 0.2500\n",
            "('you', 'read'): 0.5000\n",
            "('a', 'book'): 0.5000\n",
            "('book', 'a'): 0.5000\n",
            "('flight', 'eos'): 1.0000\n",
            "('read', 'a'): 0.5000\n",
            "('book', 'eos'): 0.5000\n",
            "('eos', 'you'): 0.5000\n",
            "('a', 'flight'): 0.5000\n",
            "('read', 'eos'): 0.5000\n",
            "('you', 'book'): 0.5000\n",
            "('i', 'read'): 1.0000\n"
          ]
        }
      ]
    },
    {
      "cell_type": "code",
      "source": [
        "table = PrettyTable()\n",
        "unique_words=[\"\"]+tokens\n",
        "unique_words=pd.unique(unique_words)\n",
        "print(unique_words)\n",
        "h = {}\n",
        "for token in tokens:\n",
        "  h[token] = tokens.count(token)\n",
        "print(h)\n",
        "table.field_names=[i for i in unique_words]\n",
        "unique_words=unique_words[1:]\n",
        "for i in unique_words:\n",
        "  row=[i]\n",
        "  for j in unique_words:\n",
        "    count=0\n",
        "    for k in range(len(tokens)-1):\n",
        "      if tokens[k]==i and tokens[k+1]==j:\n",
        "        count+=1\n",
        "    row.append(count/h[i])\n",
        "  table.add_row(row)\n",
        "print(table)"
      ],
      "metadata": {
        "id": "PXC81IZr9yMd",
        "colab": {
          "base_uri": "https://localhost:8080/"
        },
        "outputId": "6f2a887f-c738-4ce6-9762-074586e335e6"
      },
      "execution_count": 11,
      "outputs": [
        {
          "output_type": "stream",
          "name": "stdout",
          "text": [
            "['' 'eos' 'you' 'book' 'a' 'flight' 'i' 'read']\n",
            "{'eos': 4, 'you': 2, 'book': 2, 'a': 2, 'flight': 1, 'i': 1, 'read': 2}\n",
            "+--------+-----+-----+------+-----+--------+------+------+\n",
            "|        | eos | you | book |  a  | flight |  i   | read |\n",
            "+--------+-----+-----+------+-----+--------+------+------+\n",
            "|  eos   | 0.0 | 0.5 | 0.0  | 0.0 |  0.0   | 0.25 | 0.0  |\n",
            "|  you   | 0.0 | 0.0 | 0.5  | 0.0 |  0.0   | 0.0  | 0.5  |\n",
            "|  book  | 0.5 | 0.0 | 0.0  | 0.5 |  0.0   | 0.0  | 0.0  |\n",
            "|   a    | 0.0 | 0.0 | 0.5  | 0.0 |  0.5   | 0.0  | 0.0  |\n",
            "| flight | 1.0 | 0.0 | 0.0  | 0.0 |  0.0   | 0.0  | 0.0  |\n",
            "|   i    | 0.0 | 0.0 | 0.0  | 0.0 |  0.0   | 0.0  | 1.0  |\n",
            "|  read  | 0.5 | 0.0 | 0.0  | 0.5 |  0.0   | 0.0  | 0.0  |\n",
            "+--------+-----+-----+------+-----+--------+------+------+\n"
          ]
        }
      ]
    },
    {
      "cell_type": "code",
      "source": [
        "table = PrettyTable()\n",
        "unique_words=[\"\"]+tokens\n",
        "unique_words=pd.unique(unique_words)\n",
        "print(unique_words)\n",
        "h = {}\n",
        "for token in tokens:\n",
        "  h[token] = tokens.count(token)\n",
        "print(h)\n",
        "table.field_names=[i for i in unique_words]\n",
        "unique_words=unique_words[1:]\n",
        "for i in unique_words:\n",
        "  row=[i]\n",
        "  for j in unique_words:\n",
        "    count=0\n",
        "    for k in range(len(tokens)-1):\n",
        "      if tokens[k]==i and tokens[k+1]==j:\n",
        "        count+=1\n",
        "    row.append(round((count+1)/(h[i] + len(unique_words)),2))\n",
        "  table.add_row(row)\n",
        "print(table)"
      ],
      "metadata": {
        "colab": {
          "base_uri": "https://localhost:8080/"
        },
        "id": "fn4t1X_4GPVb",
        "outputId": "9e8207c0-3583-401f-f0b7-f3f94ed16fbf"
      },
      "execution_count": 12,
      "outputs": [
        {
          "output_type": "stream",
          "name": "stdout",
          "text": [
            "['' 'eos' 'you' 'book' 'a' 'flight' 'i' 'read']\n",
            "{'eos': 4, 'you': 2, 'book': 2, 'a': 2, 'flight': 1, 'i': 1, 'read': 2}\n",
            "+--------+------+------+------+------+--------+------+------+\n",
            "|        | eos  | you  | book |  a   | flight |  i   | read |\n",
            "+--------+------+------+------+------+--------+------+------+\n",
            "|  eos   | 0.09 | 0.27 | 0.09 | 0.09 |  0.09  | 0.18 | 0.09 |\n",
            "|  you   | 0.11 | 0.11 | 0.22 | 0.11 |  0.11  | 0.11 | 0.22 |\n",
            "|  book  | 0.22 | 0.11 | 0.11 | 0.22 |  0.11  | 0.11 | 0.11 |\n",
            "|   a    | 0.11 | 0.11 | 0.22 | 0.11 |  0.22  | 0.11 | 0.11 |\n",
            "| flight | 0.25 | 0.12 | 0.12 | 0.12 |  0.12  | 0.12 | 0.12 |\n",
            "|   i    | 0.12 | 0.12 | 0.12 | 0.12 |  0.12  | 0.12 | 0.25 |\n",
            "|  read  | 0.22 | 0.11 | 0.11 | 0.22 |  0.11  | 0.11 | 0.11 |\n",
            "+--------+------+------+------+------+--------+------+------+\n"
          ]
        }
      ]
    },
    {
      "cell_type": "code",
      "source": [
        "def N_Grams_smoothing(bigram_list):\n",
        "    bigram_freq = FreqDist(bigram_list)\n",
        "    # Add-one smoothing\n",
        "    unique_bigrams = set(bigram_list)\n",
        "    total_bigrams = len(bigram_list)\n",
        "    bigram_probabilities = {bigram: (bigram_freq[bigram] + 1) / (total_bigrams + len(unique_bigrams))\n",
        "                           for bigram in unique_bigrams}\n",
        "\n",
        "    return bigram_probabilities"
      ],
      "metadata": {
        "id": "5-Xx1gWNw_WP"
      },
      "execution_count": 32,
      "outputs": []
    },
    {
      "cell_type": "code",
      "source": [
        "def calculate_sentence_probability(sentence, bigram_probabilities):\n",
        "    probability = 1.0\n",
        "    for bigram in sentence:\n",
        "        if bigram_frequencies[bigram] == 0:\n",
        "          bigram_probabilities = N_Grams_smoothing(list(unique_bigrams) +sentence)\n",
        "\n",
        "        probability *= bigram_probabilities[bigram]\n",
        "\n",
        "    return probability"
      ],
      "metadata": {
        "id": "aoV0Dg2molqG"
      },
      "execution_count": 35,
      "outputs": []
    },
    {
      "cell_type": "code",
      "source": [
        "test_sentence = \"you read a book.\"\n",
        "test_sentence = test_sentence.lower()\n",
        "\n",
        "test_sentence_pro = test_sentence.replace(\",\", \"\").replace(\".\", \" eos\").replace(\"!\", \" eos\").replace(\"?\", \" eos\").replace(\":\", \"\").replace(\";\", \"\").replace(\"-\", \"\").replace(\"'s\", \"\").replace(\"'\", \"\").replace('\"', \"\")\n",
        "test_sentence_pro = \"eos \" + test_sentence_pro\n",
        "tokenized_test_sentence = word_tokenize(test_sentence_pro)\n",
        "test_sentence_bigrams = list(bigrams(tokenized_test_sentence))\n",
        "\n",
        "# Calculate probability of the test sentence\n",
        "probability = calculate_sentence_probability(test_sentence_bigrams, bigram_probabilities)\n",
        "\n",
        "# Display calculated probability for the test sentence\n",
        "print(f\"\\nThe probability of the sentence '{test_sentence}' is: {probability:.6f}\")"
      ],
      "metadata": {
        "colab": {
          "base_uri": "https://localhost:8080/"
        },
        "id": "mGdyaRVws-XR",
        "outputId": "9ea202dd-3e6d-46ea-984d-9fc33a5e2fc3"
      },
      "execution_count": 30,
      "outputs": [
        {
          "output_type": "stream",
          "name": "stdout",
          "text": [
            "\n",
            "The probability of the sentence 'you read a book.' is: 0.031250\n"
          ]
        }
      ]
    },
    {
      "cell_type": "code",
      "source": [
        "test_sentence = \"Are you in hosptial.\"\n",
        "test_sentence = test_sentence.lower()\n",
        "\n",
        "test_sentence_pro = test_sentence.replace(\",\", \"\").replace(\".\", \" eos\").replace(\"!\", \" eos\").replace(\"?\", \" eos\").replace(\":\", \"\").replace(\";\", \"\").replace(\"-\", \"\").replace(\"'s\", \"\").replace(\"'\", \"\").replace('\"', \"\")\n",
        "test_sentence_pro = \"eos \" + test_sentence_pro\n",
        "tokenized_test_sentence = word_tokenize(test_sentence_pro)\n",
        "test_sentence_bigrams = list(bigrams(tokenized_test_sentence))\n",
        "\n",
        "# Calculate probability of the test sentence\n",
        "probability = calculate_sentence_probability(test_sentence_bigrams, bigram_probabilities)\n",
        "\n",
        "# Display calculated probability for the test sentence\n",
        "print(f\"\\nThe probability of the sentence '{test_sentence}' is: {probability:.6f}\")"
      ],
      "metadata": {
        "colab": {
          "base_uri": "https://localhost:8080/"
        },
        "id": "fyyRhbhIs30i",
        "outputId": "2226b95d-8892-4721-9f10-ece98d227b45"
      },
      "execution_count": 36,
      "outputs": [
        {
          "output_type": "stream",
          "name": "stdout",
          "text": [
            "\n",
            "The probability of the sentence 'are you in hosptial.' is: 0.000001\n"
          ]
        }
      ]
    },
    {
      "cell_type": "code",
      "source": [],
      "metadata": {
        "id": "tqsHjIUktG0o"
      },
      "execution_count": null,
      "outputs": []
    }
  ]
}